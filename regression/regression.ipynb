{
 "cells": [
  {
   "cell_type": "markdown",
   "metadata": {},
   "source": [
    "# Regression\n",
    "\n",
    "_________________________________________________________\n",
    "Starter code for the regression mini-project.\n",
    "    \n",
    "Loads up/formats a modified version of the dataset\n",
    "(why modified?  we've removed some trouble points\n",
    "that you'll find yourself in the outliers mini-project).\n",
    "Draws a little scatterplot of the training/testing data"
   ]
  },
  {
   "cell_type": "code",
   "execution_count": 12,
   "metadata": {},
   "outputs": [
    {
     "name": "stdout",
     "output_type": "stream",
     "text": [
      "training time: 0.0 s\n",
      "\n",
      "line 1 (with outliers):\n",
      "r-squared:\t-1.48499241737\n",
      "slope:\t\t[ 5.44814029]\n",
      "intercept:\t-102360.543294\n",
      "\n",
      "line 2 (without outliers):\n",
      "r-squared:\t0.251488150398\n",
      "slope:\t\t[ 2.27410114]\n",
      "intercept:\t124444.388866\n"
     ]
    },
    {
     "data": {
      "image/png": "[encoded data removed]",
      "text/plain": [
       "<matplotlib.figure.Figure at 0xa84ee10>"
      ]
     },
     "metadata": {},
     "output_type": "display_data"
    }
   ],
   "source": [
    "import sys\n",
    "import pickle\n",
    "sys.path.append(\"../tools/\")\n",
    "from time import time\n",
    "from feature_format import featureFormat, targetFeatureSplit\n",
    "from sklearn.linear_model import LinearRegression\n",
    "dictionary = pickle.load( open(\"../final_project/final_project_dataset_modified.pkl\", \"r\") )\n",
    "\n",
    "### list the features you want to look at--first item in the \n",
    "### list will be the \"target\" feature\n",
    "features_list = [\"bonus\", \"salary\"]\n",
    "data = featureFormat( dictionary, features_list, remove_any_zeroes=True)\n",
    "target, features = targetFeatureSplit( data )\n",
    "\n",
    "### training-testing split needed in regression, just like classification\n",
    "from sklearn.cross_validation import train_test_split\n",
    "feature_train, feature_test, target_train, target_test = train_test_split(features, target, test_size=0.5, random_state=42)\n",
    "train_color = \"r\"\n",
    "test_color = \"b\"\n",
    "\n",
    "\n",
    "\n",
    "### Your regression goes here!\n",
    "### Please name it reg, so that the plotting code below picks it up and \n",
    "### plots it correctly. Don't forget to change the test_color above from \"b\" to\n",
    "### \"r\" to differentiate training points from test points.\n",
    "\n",
    "# Generate Classifier\n",
    "reg = LinearRegression()\n",
    "\n",
    "# Train the Classifier\n",
    "t0 = time()\n",
    "reg.fit(feature_train, target_train)\n",
    "print \"training time:\", round(time()-t0, 3), \"s\"\n",
    "\n",
    "# Print the statistics\n",
    "print '\\nline 1 (with outliers):'\n",
    "print 'r-squared:\\t' + str(reg.score(feature_test, target_test))\n",
    "print 'slope:\\t\\t', reg.coef_\n",
    "print 'intercept:\\t', reg.intercept_\n",
    "\n",
    "\n",
    "\n",
    "\n",
    "### draw the scatterplot, with color-coded training and testing points\n",
    "import matplotlib.pyplot as plt\n",
    "for feature, target in zip(feature_test, target_test):\n",
    "    plt.scatter( feature, target, color=test_color ) \n",
    "for feature, target in zip(feature_train, target_train):\n",
    "    plt.scatter( feature, target, color=train_color ) \n",
    "\n",
    "### labels for the legend\n",
    "plt.scatter(feature_test[0], target_test[0], color=test_color, label=\"test\")\n",
    "plt.scatter(feature_test[0], target_test[0], color=train_color, label=\"train\")\n",
    "\n",
    "\n",
    "\n",
    "\n",
    "### draw the regression line, once it's coded\n",
    "try:\n",
    "    plt.plot( feature_test, reg.predict(feature_test) )\n",
    "except NameError:\n",
    "    pass\n",
    "\n",
    "# Line 2 (without outliers)\n",
    "reg.fit(feature_test, target_test)\n",
    "plt.plot(feature_train, reg.predict(feature_train), color=\"b\") \n",
    "\n",
    "# Print the statistics\n",
    "print '\\nline 2 (without outliers):'\n",
    "print 'r-squared:\\t' + str(reg.score(feature_test, target_test))\n",
    "print 'slope:\\t\\t', reg.coef_\n",
    "print 'intercept:\\t', reg.intercept_\n",
    "plt.xlabel(features_list[1])\n",
    "plt.ylabel(features_list[0])\n",
    "plt.legend()\n",
    "plt.show()\n"
   ]
  }
 ],
 "metadata": {
  "kernelspec": {
   "display_name": "Python 2",
   "language": "python",
   "name": "python2"
  },
  "language_info": {
   "codemirror_mode": {
    "name": "ipython",
    "version": 2
   },
   "file_extension": ".py",
   "mimetype": "text/x-python",
   "name": "python",
   "nbconvert_exporter": "python",
   "pygments_lexer": "ipython2",
   "version": "2.7.13"
  }
 },
 "nbformat": 4,
 "nbformat_minor": 2
}
